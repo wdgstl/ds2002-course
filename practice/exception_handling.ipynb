{
  "nbformat": 4,
  "nbformat_minor": 0,
  "metadata": {
    "colab": {
      "provenance": [],
      "authorship_tag": "ABX9TyPUS5UjPFpw3j6BWJP8asQn",
      "include_colab_link": true
    },
    "kernelspec": {
      "name": "python3",
      "display_name": "Python 3"
    },
    "language_info": {
      "name": "python"
    }
  },
  "cells": [
    {
      "cell_type": "markdown",
      "metadata": {
        "id": "view-in-github",
        "colab_type": "text"
      },
      "source": [
        "<a href=\"https://colab.research.google.com/github/nmagee/ds2002-course/blob/main/practice/exception_handling.ipynb\" target=\"_parent\"><img src=\"https://colab.research.google.com/assets/colab-badge.svg\" alt=\"Open In Colab\"/></a>"
      ]
    },
    {
      "cell_type": "markdown",
      "source": [
        "# Exception Handling\n",
        "\n",
        "Read more:\n",
        "\n",
        "- [Python Exceptions Documentation](https://docs.python.org/3/library/exceptions.html)\n",
        "- [Errors & Exceptions Tutorial](https://docs.python.org/3/tutorial/errors.html)\n",
        "\n",
        "\n",
        "## Assume that errors are going to happen\n",
        "\n",
        "Key ingredients for working with errors:\n",
        "\n",
        "- `try` / `except` - These are the essential components of error handling. `try` represents the process or operation the developer intends to execute, and `except` is initiated when a non-normal response is encountered.\n",
        "- `else` - Executes when no exceptions are raised in the `try` block. Think of this as a continuation of `try`, as either condition execution or success logic.\n",
        "- `raise` - When you encounter a condition in your code that signals an error situation, you can use raise to create a specific exception. This exception can be either a built-in exception class like ValueError or a custom exception class you define.\n",
        "- `continue` - Not specific to error handling, but rather a control flow statement. An error could trigger an `exit` or `continue`, etc.\n",
        "- `finally` - The finally block in Python's error handling (using `try...except`) serves a crucial role in ensuring proper resource management and code execution cleanup.\n",
        "\n",
        "![Python Error Handling](https://images.datacamp.com/image/upload/v1677232088/Exception%20and%20error%20handling%20in%20Python.png)"
      ],
      "metadata": {
        "id": "vy-fpk9Z-HYU"
      }
    },
    {
      "cell_type": "markdown",
      "source": [
        "## Generating meaningful error messages\n",
        "\n",
        "A simple error, such as the first example below, returns the general Python error dump. This can be informative (indicates a `TypeError`) but breaks the process. The \"ugly\" / verbose error message from Python is a Traceback, which follows the linear path of what element(s) of code triggered the error.\n",
        "\n",
        "You can see a Traceback by deliberately invoking an error:"
      ],
      "metadata": {
        "id": "3RWAnF65YCTW"
      }
    },
    {
      "cell_type": "code",
      "execution_count": null,
      "metadata": {
        "id": "tDFXF-4n9X9b"
      },
      "outputs": [],
      "source": [
        "def add_these(x, y):\n",
        "  sum = x + y\n",
        "  print(sum)\n",
        "  return sum\n",
        "\n",
        "add_these(5, \"forks\")"
      ]
    },
    {
      "cell_type": "code",
      "source": [
        "# Try creating your own error\n"
      ],
      "metadata": {
        "id": "HKj1rXrzSbtH"
      },
      "execution_count": null,
      "outputs": []
    },
    {
      "cell_type": "markdown",
      "source": [
        "A more helpful structure is `try` and `except` where the developer can output an error message of their own design. But this often obfuscates the real error behind the scenes:"
      ],
      "metadata": {
        "id": "EsSAPKHC-fDq"
      }
    },
    {
      "cell_type": "code",
      "source": [
        "def add_these(x, y):\n",
        "  try:\n",
        "    sum = x + y\n",
        "    print(sum)\n",
        "    return sum\n",
        "  except:\n",
        "    print(\"An error has occurred\")\n",
        "\n",
        "add_these(5, \"forks\")"
      ],
      "metadata": {
        "id": "dI4_pZJ39tSf"
      },
      "execution_count": null,
      "outputs": []
    },
    {
      "cell_type": "markdown",
      "source": [
        "## Exception as `e`\n",
        "\n",
        "A better version will capture the exception into an object (of the Exception class) which can be printed out, parsed, logged, etc.:"
      ],
      "metadata": {
        "id": "fBJsco4h-tiO"
      }
    },
    {
      "cell_type": "code",
      "source": [
        "def add_these(x, y):\n",
        "  try:\n",
        "    sum = x + y\n",
        "    print(sum)\n",
        "    return sum\n",
        "  except Exception as e:\n",
        "    print(\"An error has occurred:\", e)\n",
        "\n",
        "add_these(5, \"forks\")"
      ],
      "metadata": {
        "id": "RziDJW3w94QR"
      },
      "execution_count": null,
      "outputs": []
    },
    {
      "cell_type": "markdown",
      "source": [
        "## `else`\n",
        "\n",
        "The `try` block attempts to convert the input to an integer and perform validation.\n",
        "If `ValueError` occurs (invalid input), the `except` block handles it.\n",
        "If no exceptions occur (valid input and age), the `else` block executes, providing a welcome message."
      ],
      "metadata": {
        "id": "pq9InuHxMrdc"
      }
    },
    {
      "cell_type": "code",
      "source": [
        "def validate_age(age):\n",
        "  try:\n",
        "    # Convert input to integer (might raise ValueError)\n",
        "    age = int(age)\n",
        "    if age < 18:\n",
        "      return \"Sorry, you must be 18 or older.\"\n",
        "  except ValueError:\n",
        "    return \"Invalid age entered. Please enter a number.\"\n",
        "  else:\n",
        "    # This part only executes if conversion and validation succeed (no exceptions)\n",
        "    return f\"Welcome! You are {age} years old.\"\n",
        "\n",
        "# Usage\n",
        "user_age = input(\"Enter your age: \")\n",
        "validation_message = validate_age(user_age)\n",
        "print(validation_message)"
      ],
      "metadata": {
        "id": "lqgvXp7VMt5b"
      },
      "execution_count": null,
      "outputs": []
    },
    {
      "cell_type": "markdown",
      "source": [
        "## `continue`\n",
        "\n",
        "The next iteration might handle the exception more gracefully by continuing the process. `continue` is a control flow operation, which directs the code in how to proceed once an error is invoked. Should it stop and exit? Should it roll back some previous change? Should it continue forward?\n",
        "\n",
        "Other methods of control flow are:\n",
        "\n",
        "- `while`\n",
        "- `if`\n",
        "- `elif`\n",
        "- `else`\n",
        "- `for`\n",
        "- `break`\n",
        "- `pass`\n",
        "- `match`\n",
        "- etc.\n",
        "\n",
        "See [this page](https://docs.python.org/3/tutorial/controlflow.html) for more on control flow.\n",
        "\n",
        "> **`continue` vs. `pass`**: Be aware that these are not interchangeable. `continue` forces the loop to start at the next iteration, while `pass` means \"there is no code to execute here\" and executes any remaining logic of the invoking loop. And `break` terminates a loop once a condition is met.\n",
        "\n",
        "Take this example where numbers are being added to a constant, but one entry is a non-number. Perhaps we do not want the process to continue when given just one bad value:"
      ],
      "metadata": {
        "id": "nhIiify2-4a1"
      }
    },
    {
      "cell_type": "code",
      "source": [
        "import os\n",
        "\n",
        "myvals = [1, 2, 3, 4, 5, \"B\", 7, 8, 9, 10]\n",
        "\n",
        "def add_to_constant():\n",
        "  for val in myvals:\n",
        "    try:\n",
        "      sum = val + 10\n",
        "      print(sum)\n",
        "    except Exception as e:\n",
        "      print(e)\n",
        "      continue\n",
        "\n",
        "add_to_constant()"
      ],
      "metadata": {
        "id": "bfT7PRZP_N2e"
      },
      "execution_count": null,
      "outputs": []
    },
    {
      "cell_type": "code",
      "source": [
        "## Create a for loop that will trigger an exception, and print that exception out.\n"
      ],
      "metadata": {
        "id": "b3qwgn6nVJPK"
      },
      "execution_count": null,
      "outputs": []
    },
    {
      "cell_type": "markdown",
      "source": [
        "## `finally`\n",
        "\n",
        "Make use of `finally` to clean up or return consistently"
      ],
      "metadata": {
        "id": "2Kxr7yoKAUov"
      }
    },
    {
      "cell_type": "code",
      "source": [
        "import os\n",
        "\n",
        "myvals = [1, 2, 3, 4, 5, \"B\", 7, 8, 9, 10]\n",
        "\n",
        "def add_to_constant():\n",
        "  for val in myvals:\n",
        "    try:\n",
        "      sum = val + 10\n",
        "      print(sum)\n",
        "    except Exception as e:\n",
        "      print(e)\n",
        "      continue\n",
        "    finally:\n",
        "      print(\"No matter what happens in the math, I will be printed each time!\")\n",
        "\n",
        "add_to_constant()"
      ],
      "metadata": {
        "id": "2PPuwsQ_ATYC"
      },
      "execution_count": null,
      "outputs": []
    },
    {
      "cell_type": "markdown",
      "source": [
        "## Multiple `try`/`except` stanzas\n",
        "\n",
        "Code often requires `try`/`except` in multiple locations, since just a single implementation may not focus in closely enough to determine the actual error or handle it properly.\n",
        "\n",
        "In addition, the `raise` method allows you to invoke a Python error (i.e. `TypeError`, `IndexError`, etc.) using your own logic, or creating your own errors and invoking them.\n"
      ],
      "metadata": {
        "id": "IwsUolPWX4q3"
      }
    },
    {
      "cell_type": "code",
      "source": [
        "def divide(numerator, denominator):\n",
        "  \"\"\"\n",
        "  This function divides two numbers and handles potential ZeroDivisionError.\n",
        "\n",
        "  Args:\n",
        "      numerator: The numerator of the division.\n",
        "      denominator: The denominator of the division.\n",
        "\n",
        "  Returns:\n",
        "      The result of the division or None if there is a ZeroDivisionError.\n",
        "\n",
        "  Raises:\n",
        "      TypeError: If either numerator or denominator is not a number.\n",
        "  \"\"\"\n",
        "\n",
        "  if not isinstance(numerator, (int, float)) or not isinstance(denominator, (int, float)):\n",
        "    raise TypeError(\"numerator and denominator must be numbers\")\n",
        "\n",
        "  try:\n",
        "    return numerator / denominator\n",
        "  except ZeroDivisionError:\n",
        "    print(\"Error: Cannot divide by zero.\")\n",
        "    return None\n",
        "\n",
        "# Example usage with valid input\n",
        "result = divide(10, 2)\n",
        "print(f\"Result of dividing 10 by 2: {result}\")  # Output: Result of dividing 10 by 2: 5.0\n",
        "\n",
        "# Example usage with invalid input (non-numeric)\n",
        "try:\n",
        "  result = divide(10, \"five\")\n",
        "except TypeError as e:\n",
        "  print(f\"Error: {e}\")  # Output: Error: numerator and denominator must be numbers\n",
        "\n",
        "# Example usage with ZeroDivisionError\n",
        "result = divide(10, 0)\n",
        "print(f\"Result of dividing 10 by 0: {result}\")  # Output: Error: Cannot divide by zero.\n",
        "                                                  #        Result of dividing 10 by 0: None\n"
      ],
      "metadata": {
        "id": "oIErUdhdXqht"
      },
      "execution_count": null,
      "outputs": []
    },
    {
      "cell_type": "markdown",
      "source": [
        "## Errors from a library provider\n",
        "\n",
        "Some libraries come with exception handling classes you can specifically import."
      ],
      "metadata": {
        "id": "QWu3sOmSmP5l"
      }
    },
    {
      "cell_type": "markdown",
      "source": [
        "### pandas\n",
        "\n",
        "Pandas also has this built-in class that can handle a variety of errors:\n",
        "\n",
        "- `KeyError`: This error occurs when you try to access a column that does not exist in the DataFrame.\n",
        "- `TypeError`: This error occurs when you try to perform an operation on a DataFrame that is not supported.\n",
        "- `ValueError`: This error occurs when you pass an invalid value to a Pandas function.\n",
        "- `IndexError`: This error occurs when you try to access an index that is out of bounds.-"
      ],
      "metadata": {
        "id": "UmabFQ8TnVDo"
      }
    },
    {
      "cell_type": "code",
      "source": [
        "import pandas as pd\n",
        "\n",
        "df = pd.DataFrame({'A': [1, 2], 'B': [3, 4]})\n",
        "\n",
        "try:\n",
        "    print(df['D'])\n",
        "except KeyError as e:\n",
        "    print(f\"Column {e} does not exist in the DataFrame:\")"
      ],
      "metadata": {
        "id": "P5voI7J2nX4p",
        "outputId": "c5b4c69e-5ae5-4af7-ad53-ff127ab82c96",
        "colab": {
          "base_uri": "https://localhost:8080/"
        }
      },
      "execution_count": 3,
      "outputs": [
        {
          "output_type": "stream",
          "name": "stdout",
          "text": [
            "Column 'D' does not exist in the DataFrame:\n"
          ]
        }
      ]
    },
    {
      "cell_type": "code",
      "source": [
        "import pandas as pd\n",
        "\n",
        "# Create a DataFrame with a string column\n",
        "data = {'Name': ['Alice', 'Bob', 'Charlie']}\n",
        "df = pd.DataFrame(data)\n",
        "\n",
        "# Try converting the 'Name' column to numeric (fails for non-numeric values)\n",
        "try:\n",
        "  df['Name'] = pd.to_numeric(df['Name'])\n",
        "except ValueError as e:\n",
        "  print(\"ValueError:\", e)"
      ],
      "metadata": {
        "id": "DZVyF-uZVmOp",
        "outputId": "b4cdee89-0f50-43ba-ed4f-4fdc76cb1734",
        "colab": {
          "base_uri": "https://localhost:8080/"
        }
      },
      "execution_count": 7,
      "outputs": [
        {
          "output_type": "stream",
          "name": "stdout",
          "text": [
            "ValueError: Unable to parse string \"Alice\" at position 0\n"
          ]
        }
      ]
    },
    {
      "cell_type": "markdown",
      "source": [
        "### `boto3`\n",
        "\n",
        "The `boto3` package for AWS interactions has such an option:"
      ],
      "metadata": {
        "id": "65SIIs3xnlR9"
      }
    },
    {
      "cell_type": "code",
      "source": [
        "%pip install boto3"
      ],
      "metadata": {
        "id": "HuOuKyw2meCz"
      },
      "execution_count": null,
      "outputs": []
    },
    {
      "cell_type": "code",
      "source": [
        "import boto3\n",
        "import botocore.exceptions\n",
        "\n",
        "s3 = boto3.client('s3')\n",
        "\n",
        "try:\n",
        "  response = s3.list_buckets()\n",
        "except Exception as e:\n",
        "  print(e)"
      ],
      "metadata": {
        "id": "Xhf5Ah8HmpXB"
      },
      "execution_count": null,
      "outputs": []
    },
    {
      "cell_type": "code",
      "source": [
        "# The generic form here\n",
        "# See https://boto3.amazonaws.com/v1/documentation/api/latest/guide/error-handling.html#catching-botocore-exceptions\n",
        "\n",
        "import boto3\n",
        "import botocore\n",
        "\n",
        "try:\n",
        "    client.some_api_call(SomeParam='some_param')\n",
        "\n",
        "except botocore.exceptions.ClientError as error:\n",
        "    # Put your error handling logic here\n",
        "    raise error\n",
        "\n",
        "except botocore.exceptions.ParamValidationError as error:\n",
        "    raise ValueError('The parameters you provided are incorrect: {}'.format(error))"
      ],
      "metadata": {
        "id": "6Bo-Ckczm9m4"
      },
      "execution_count": null,
      "outputs": []
    }
  ]
}